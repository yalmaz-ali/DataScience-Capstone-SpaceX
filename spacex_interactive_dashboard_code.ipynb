{
  "cells": [
    {
      "cell_type": "markdown",
      "metadata": {
        "id": "view-in-github",
        "colab_type": "text"
      },
      "source": [
        "<a href=\"https://colab.research.google.com/github/MShahnoor/IBM-Data-Science-Capston-SpaceX/blob/main/spacex_interactive_dashboard_code.ipynb\" target=\"_parent\"><img src=\"https://colab.research.google.com/assets/colab-badge.svg\" alt=\"Open In Colab\"/></a>"
      ]
    },
    {
      "cell_type": "code",
      "execution_count": null,
      "metadata": {
        "colab": {
          "background_save": true,
          "base_uri": "https://localhost:8080/"
        },
        "id": "CpElC1YybezI",
        "outputId": "a35382d1-c5d1-48e6-af65-a24e0574a257"
      },
      "outputs": [
        {
          "name": "stdout",
          "output_type": "stream",
          "text": [
            "Dash is running on http://127.0.0.1:8050/\n",
            "\n",
            "Dash is running on http://127.0.0.1:8050/\n",
            "\n",
            "Dash is running on http://127.0.0.1:8050/\n",
            "\n"
          ]
        },
        {
          "name": "stderr",
          "output_type": "stream",
          "text": [
            "INFO:__main__:Dash is running on http://127.0.0.1:8050/\n",
            "\n"
          ]
        },
        {
          "name": "stdout",
          "output_type": "stream",
          "text": [
            " * Serving Flask app \"__main__\" (lazy loading)\n",
            " * Environment: production\n",
            "\u001b[31m   WARNING: This is a development server. Do not use it in a production deployment.\u001b[0m\n",
            "\u001b[2m   Use a production WSGI server instead.\u001b[0m\n",
            " * Debug mode: off\n"
          ]
        },
        {
          "name": "stderr",
          "output_type": "stream",
          "text": [
            "INFO:werkzeug: * Running on http://127.0.0.1:8050/ (Press CTRL+C to quit)\n"
          ]
        }
      ],
      "source": [
        "import pandas as pd\n",
        "import dash\n",
        "import dash_html_components as html\n",
        "import dash_core_components as dcc\n",
        "from dash.dependencies import Input, Output\n",
        "import plotly.express as px\n",
        "\n",
        "\n",
        "spacex_df = pd.read_csv(\"https://cf-courses-data.s3.us.cloud-object-storage.appdomain.cloud/IBM-DS0321EN-SkillsNetwork/datasets/spacex_launch_dash.csv\")\n",
        "max_payload = spacex_df['Payload Mass (kg)'].max()\n",
        "min_payload = spacex_df['Payload Mass (kg)'].min()\n",
        "\n",
        "\n",
        "app = dash.Dash(__name__)\n",
        "\n",
        "uniquelaunchsites = spacex_df['Launch Site'].unique().tolist()\n",
        "lsites = []\n",
        "lsites.append({'label': 'All Sites', 'value': 'All Sites'})\n",
        "for site in uniquelaunchsites:\n",
        " lsites.append({'label': site, 'value': site})                                 \n",
        "                           \n",
        "\n",
        "\n",
        "app.layout = html.Div(children=[html.H1('SpaceX Launch Records Dashboard',\n",
        "                                        style={'textAlign': 'center', 'color': '#503D36',\n",
        "                                               'font-size': 40}),\n",
        "                \n",
        "                                \n",
        "\n",
        "                    \n",
        "                                dcc.Dropdown(id='site_dropdown',options=lsites,placeholder='Select a Launch Site here', searchable = True , value = 'All Sites'),\n",
        "                                html.Br(),\n",
        "\n",
        "                       \n",
        "                                html.Div(dcc.Graph(id='success-pie-chart')),\n",
        "                                html.Br(),\n",
        "\n",
        "                                html.P(\"Payload range (Kg):\"),\n",
        "                             \n",
        "                                dcc.RangeSlider(\n",
        "                                    id='payload_slider',\n",
        "                                    min=0,\n",
        "                                    max=10000,\n",
        "                                    step=1000,  \n",
        "                                    marks = {\n",
        "                                            0: '0 kg',\n",
        "                                            1000: '1000 kg',\n",
        "                                            2000: '2000 kg',\n",
        "                                            3000: '3000 kg',\n",
        "                                            4000: '4000 kg',\n",
        "                                            5000: '5000 kg',\n",
        "                                            6000: '6000 kg',  \n",
        "                                            7000: '7000 kg',\n",
        "                                            8000: '8000 kg',\n",
        "                                            9000: '9000 kg',\n",
        "                                            10000: '10000 kg'                                         \n",
        "                                    },\n",
        "\n",
        "                                    value=[min_payload,max_payload]\n",
        "                                ),\n",
        "                            \n",
        "                                html.Div(dcc.Graph(id='success-payload-scatter-chart')),\n",
        "                              \n",
        "                                ])\n",
        "\n",
        "@app.callback(\n",
        "     Output(component_id='success-pie-chart',component_property='figure'),\n",
        "     [Input(component_id='site_dropdown',component_property='value')]               \n",
        ")\n",
        "def update_graph(site_dropdown):\n",
        "    if (site_dropdown == 'All Sites'):\n",
        "        df  = spacex_df[spacex_df['class'] == 1]\n",
        "        fig = px.pie(df, names = 'Launch Site',hole=.3,title = 'Total Success Launches By all sites')\n",
        "    else:\n",
        "        df  = spacex_df.loc[spacex_df['Launch Site'] == site_dropdown]\n",
        "        fig = px.pie(df, names = 'class',hole=.3,title = 'Total Success Launches for site '+site_dropdown)\n",
        "    return fig\n",
        "\n",
        "@app.callback(\n",
        "     Output(component_id='success-payload-scatter-chart',component_property='figure'),\n",
        "     [Input(component_id='site_dropdown',component_property='value'),Input(component_id=\"payload_slider\", component_property=\"value\")]               \n",
        ")\n",
        "def update_scattergraph(site_dropdown,payload_slider):\n",
        "    if site_dropdown == 'All Sites':\n",
        "        low, high = payload_slider\n",
        "        df  = spacex_df\n",
        "        mask = (df['Payload Mass (kg)'] > low) & (df['Payload Mass (kg)'] < high)\n",
        "        fig = px.scatter(\n",
        "            df[mask], x=\"Payload Mass (kg)\", y=\"class\", \n",
        "            color=\"Booster Version\",\n",
        "            size='Payload Mass (kg)',\n",
        "            hover_data=['Payload Mass (kg)'])\n",
        "    else:\n",
        "        low, high = payload_slider\n",
        "        df  = spacex_df.loc[spacex_df['Launch Site'] == site_dropdown]\n",
        "        mask = (df['Payload Mass (kg)'] > low) & (df['Payload Mass (kg)'] < high)\n",
        "        fig = px.scatter(\n",
        "            df[mask], x=\"Payload Mass (kg)\", y=\"class\", \n",
        "            color=\"Booster Version\",\n",
        "            size='Payload Mass (kg)',\n",
        "            hover_data=['Payload Mass (kg)'])\n",
        "    return fig\n",
        "\n",
        "\n",
        "if __name__ == '__main__':\n",
        "    app.run_server()"
      ]
    },
    {
      "cell_type": "code",
      "execution_count": null,
      "metadata": {
        "id": "4adY8aZHbfXj"
      },
      "outputs": [],
      "source": []
    }
  ],
  "metadata": {
    "colab": {
      "provenance": [],
      "authorship_tag": "ABX9TyN8Qok1Dxt1eTNwZb2W3fvR",
      "include_colab_link": true
    },
    "gpuClass": "standard",
    "kernelspec": {
      "display_name": "Python 3",
      "name": "python3"
    },
    "language_info": {
      "name": "python"
    }
  },
  "nbformat": 4,
  "nbformat_minor": 0
}